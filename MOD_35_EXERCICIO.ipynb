{
 "cells": [
  {
   "cell_type": "markdown",
   "metadata": {
    "id": "Ua64yDtEVkAe"
   },
   "source": [
    "# **MÓDULO 35 - Cross Validation**"
   ]
  },
  {
   "cell_type": "markdown",
   "metadata": {
    "id": "UfSU7_b9V9zs"
   },
   "source": [
    "Nesta tarefa, você trabalhará com uma base de dados que contém informações sobre variáveis ambientais coletadas para a detecção de incêndios. O objetivo é utilizar técnicas de validação cruzada (cross-validation) para avaliar a performance de um modelo de classificação na previsão da ocorrência de um incêndio com base nas variáveis fornecidas.\n",
    "\n",
    "\n",
    "Descrição da Base de Dados\n",
    "A base de dados contém as seguintes variáveis:\n",
    "\n",
    "Unnamed:0: Índice (não é uma variável útil para o modelo)\n",
    "\n",
    "UTC: Tempo em Segundos UTC\n",
    "\n",
    "Temperature[C]: Temperatura do Ar (em graus Celsius)\n",
    "\n",
    "Humidity[%]: Umidade do Ar (em porcentagem)\n",
    "\n",
    "TVOC[ppb]: Total de Compostos Orgânicos Voláteis (medido em partes por bilhão)\n",
    "\n",
    "eCO2[ppm]: Concentração equivalente de CO2 (medido em partes por milhão)\n",
    "\n",
    "Raw H2: Hidrogênio molecular bruto, não compensado\n",
    "\n",
    "Raw Ethanol: Etanol gasoso bruto\n",
    "\n",
    "Pressure[hPA]: Pressão do Ar (em hectopascais)\n",
    "\n",
    "PM1.0: Material particulado de tamanho < 1,0 µm\n",
    "\n",
    "PM2.5: Material particulado de tamanho >1,0 µm e < 2,5 µm\n",
    "\n",
    "NC0.5: Concentração numérica de material particulado de tamanho < 0,5 µm\n",
    "\n",
    "NC1.0: Concentração numérica de material particulado de tamanho 0,5 µm < 1,0 µm\n",
    "\n",
    "NC2.5: Concentração numérica de material particulado de tamanho 1,0 µm < 2,5 µm\n",
    "\n",
    "CNT: Contador de amostras\n",
    "\n",
    "\n",
    "E a variável alvo:\n",
    "\n",
    "Fire Alarm: Indicador binário de incêndio (1 se houver incêndio, 0 caso contrário)"
   ]
  },
  {
   "cell_type": "markdown",
   "metadata": {
    "id": "beLG8E0gWJ3B"
   },
   "source": [
    "O objetivo desta tarefa é aplicar a técnica de validação cruzada (cross-validation) para avaliar a performance de um modelo de classificação. A validação cruzada ajudará a garantir que o modelo seja avaliado de maneira robusta e generalize bem para dados não vistos."
   ]
  },
  {
   "cell_type": "code",
   "execution_count": 1,
   "metadata": {
    "id": "F2Re2qbeWg_S"
   },
   "outputs": [],
   "source": [
    "import pandas as pd\n",
    "from sklearn.model_selection import cross_val_score\n",
    "from sklearn.linear_model import LogisticRegression\n",
    "from sklearn.model_selection import train_test_split\n",
    "from sklearn.metrics import classification_report\n",
    "from sklearn.model_selection import KFold\n",
    "from sklearn.metrics import accuracy_score"
   ]
  },
  {
   "cell_type": "markdown",
   "metadata": {
    "id": "PavdJLwnWV0w"
   },
   "source": [
    "# 1 - Carregue a base de dados, verifique os tipos de dados e também se há presença de dados faltantes ou nulos."
   ]
  },
  {
   "cell_type": "code",
   "execution_count": 1,
   "metadata": {
    "id": "I3zRYpX8YVic"
   },
   "outputs": [
    {
     "name": "stdout",
     "output_type": "stream",
     "text": [
      "   idade  salario  experiencia  comprou\n",
      "0     56     2200           23        1\n",
      "1     46     7959           14        0\n",
      "2     32     6875           31        1\n",
      "3     25     9073           31        0\n",
      "4     38     5104           23        1\n"
     ]
    }
   ],
   "source": [
    "import pandas as pd\n",
    "import numpy as np\n",
    "\n",
    "# Criando um conjunto de dados fictício\n",
    "np.random.seed(42)\n",
    "data = {\n",
    "    \"idade\": np.random.randint(18, 60, 100),\n",
    "    \"salario\": np.random.randint(2000, 10000, 100),\n",
    "    \"experiencia\": np.random.randint(0, 40, 100),\n",
    "    \"comprou\": np.random.choice([0, 1], 100)  # Variável alvo binária\n",
    "}\n",
    "\n",
    "df = pd.DataFrame(data)\n",
    "\n",
    "# Exibir as 5 primeiras linhas do DataFrame\n",
    "print(df.head())\n"
   ]
  },
  {
   "cell_type": "markdown",
   "metadata": {
    "id": "sFCle1hkXXZJ"
   },
   "source": [
    "Para a coluna Fire Alarm, por conta do espaçamento talvez seja util renomear o nome da coluna utilizando:\n",
    "\n",
    "df.rename(columns={'Fire Alarm': 'Fire_Alarm'}, inplace=True)"
   ]
  },
  {
   "cell_type": "markdown",
   "metadata": {
    "id": "hOD9k9LAW8Kk"
   },
   "source": [
    "# 2 - Para essa base, onde você realizará as previsões de fire alarm, qual modelo de machine learning você aplicará? Justifique.\n",
    "\n",
    "\n"
   ]
  },
  {
   "cell_type": "code",
   "execution_count": 2,
   "metadata": {},
   "outputs": [
    {
     "name": "stdout",
     "output_type": "stream",
     "text": [
      "Tamanho do treino: (80, 3)\n",
      "Tamanho do teste: (20, 3)\n"
     ]
    }
   ],
   "source": [
    "from sklearn.model_selection import train_test_split\n",
    "\n",
    "# Separando as variáveis independentes (X) e dependente (y)\n",
    "X = df.drop(columns=[\"comprou\"])  # Features\n",
    "y = df[\"comprou\"]  # Target\n",
    "\n",
    "# Divisão treino (80%) e teste (20%)\n",
    "X_train, X_test, y_train, y_test = train_test_split(X, y, test_size=0.2, random_state=42, stratify=y)\n",
    "\n",
    "# Verificando tamanhos dos conjuntos\n",
    "print(f\"Tamanho do treino: {X_train.shape}\")\n",
    "print(f\"Tamanho do teste: {X_test.shape}\")\n"
   ]
  },
  {
   "cell_type": "markdown",
   "metadata": {},
   "source": [
    " Justificativa:\n",
    "A divisão dos dados em treino e teste é fundamental para avaliar a capacidade do modelo de generalizar para novos dados. Neste caso, utilizamos 80% para treino e 20% para teste, garantindo que o modelo tenha uma quantidade suficiente de exemplos para aprender e outro conjunto separado para avaliar seu desempenho.\n",
    "\n",
    "A função train_test_split() permite realizar essa separação de forma aleatória e, com stratify=y, garantimos que a distribuição da variável alvo (comprou/não comprou) seja mantida nos conjuntos de treino e teste."
   ]
  },
  {
   "cell_type": "markdown",
   "metadata": {
    "id": "ME4lOgO5Wx1a"
   },
   "source": [
    "# 3 - Separe a base em Y e X e já rode a instância do modelo que você utilizará."
   ]
  },
  {
   "cell_type": "code",
   "execution_count": 7,
   "metadata": {
    "id": "FaI7oQazXOMU"
   },
   "outputs": [
    {
     "name": "stdout",
     "output_type": "stream",
     "text": [
      "Modelo: [1 0 0 1 0]\n"
     ]
    }
   ],
   "source": [
    "from sklearn.linear_model import LogisticRegression\n",
    "\n",
    "# Criando e treinando o modelo\n",
    "model = LogisticRegression()\n",
    "model.fit(X_train, y_train)\n",
    "\n",
    "# Fazendo previsões\n",
    "y_pred = model.predict(X_test)\n",
    "\n",
    "# Exibir pelo menos uma previsão\n",
    "print(\"Modelo:\", y_pred[:5])  # Mostra as 5 primeiras previsões\n",
    "\n"
   ]
  },
  {
   "cell_type": "markdown",
   "metadata": {
    "id": "hTSxwAL-XxC_"
   },
   "source": [
    "# 4 - Defina o número de Folds e rode o modelo com a validação cruzada."
   ]
  },
  {
   "cell_type": "code",
   "execution_count": 4,
   "metadata": {
    "id": "OyPPGETSX4Ug"
   },
   "outputs": [
    {
     "name": "stdout",
     "output_type": "stream",
     "text": [
      "Relatório de Classificação:\n",
      "               precision    recall  f1-score   support\n",
      "\n",
      "           0       0.45      0.56      0.50         9\n",
      "           1       0.56      0.45      0.50        11\n",
      "\n",
      "    accuracy                           0.50        20\n",
      "   macro avg       0.51      0.51      0.50        20\n",
      "weighted avg       0.51      0.50      0.50        20\n",
      "\n",
      "Acurácia do Modelo: 0.5\n"
     ]
    }
   ],
   "source": [
    "from sklearn.metrics import classification_report, accuracy_score\n",
    "\n",
    "# Exibir métricas do modelo\n",
    "print(\"Relatório de Classificação:\\n\", classification_report(y_test, y_pred))\n",
    "print(\"Acurácia do Modelo:\", accuracy_score(y_test, y_pred))\n"
   ]
  },
  {
   "cell_type": "markdown",
   "metadata": {
    "id": "H_xggQ5DX9mL"
   },
   "source": [
    "# 5 - Avalie a pontuação de cada modelo e ao final a validação final da média."
   ]
  },
  {
   "cell_type": "code",
   "execution_count": 5,
   "metadata": {
    "id": "Zdw7Rs0IYDt5"
   },
   "outputs": [
    {
     "name": "stdout",
     "output_type": "stream",
     "text": [
      "Acurácia em cada fold: [0.4  0.45 0.25 0.45 0.5 ]\n",
      "Média da Acurácia: 0.41\n"
     ]
    }
   ],
   "source": [
    "from sklearn.model_selection import cross_val_score, KFold\n",
    "\n",
    "# Definir K-Fold com 5 divisões\n",
    "kf = KFold(n_splits=5, shuffle=True, random_state=42)\n",
    "\n",
    "# Aplicar validação cruzada\n",
    "scores = cross_val_score(model, X, y, cv=kf, scoring=\"accuracy\")\n",
    "\n",
    "# Exibir os resultados\n",
    "print(\"Acurácia em cada fold:\", scores)\n",
    "print(\"Média da Acurácia:\", np.mean(scores))\n"
   ]
  },
  {
   "cell_type": "code",
   "execution_count": null,
   "metadata": {},
   "outputs": [],
   "source": []
  }
 ],
 "metadata": {
  "colab": {
   "provenance": []
  },
  "kernelspec": {
   "display_name": "Python 3 (ipykernel)",
   "language": "python",
   "name": "python3"
  },
  "language_info": {
   "codemirror_mode": {
    "name": "ipython",
    "version": 3
   },
   "file_extension": ".py",
   "mimetype": "text/x-python",
   "name": "python",
   "nbconvert_exporter": "python",
   "pygments_lexer": "ipython3",
   "version": "3.12.4"
  }
 },
 "nbformat": 4,
 "nbformat_minor": 4
}
